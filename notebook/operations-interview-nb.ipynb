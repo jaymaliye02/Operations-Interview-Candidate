{
 "cells": [
  {
   "cell_type": "code",
   "execution_count": null,
   "id": "7fed3184-e401-4b87-8044-e0609d51caac",
   "metadata": {},
   "outputs": [],
   "source": [
    "# Imports\n",
    "import pandas as pd\n",
    "import numpy as np\n",
    "\n",
    "from answers import (\n",
    "    br_norm_answer,\n",
    "    fa_norm_answer,\n",
    "    pos_answer,\n",
    "    break_pos_answer,\n",
    "    br_trd_norm_answer,\n",
    "    fa_trd_norm_answer,\n",
    "    fa_p_answer,\n",
    "    br_p_answer,\n",
    "    pnl_cmp_answer,\n",
    "    pnl_cmp_v2_answer\n",
    ")\n",
    "\n",
    "# Paths\n",
    "DATA = \"../data\"\n",
    "POS_DIR = f\"{DATA}/positions\"\n",
    "TRD_DIR = f\"{DATA}/trades\"\n",
    "\n",
    "pd.set_option(\"display.float_format\", lambda v: f\"{v:,.4f}\")"
   ]
  },
  {
   "cell_type": "markdown",
   "id": "62e2c8c0-58cb-4224-ab21-3ddcb49202c5",
   "metadata": {},
   "source": [
    "## Step 1 — Positions Recon (as of 2025‑09‑11)\n",
    "\n",
    "**Prompt:**\n",
    "1) Load Fund Admin and Broker positions.\n",
    "\n",
    "2) Normalize to common schema: `'date', 'security_description', 'security_id', 'quantity', 'price','multiplier', 'avg_cost', 'start_of_month_price'`.\n",
    "\n",
    "3) Merge on `security_id` (prefer `validate='one_to_one'`).\n",
    "\n",
    "4) Produce break table: `unique_id, qty_admin, qty_broker, qty_diff, avg_cost_admin, avg_cost_broker, avg_cost_diff`. "
   ]
  },
  {
   "cell_type": "code",
   "execution_count": null,
   "id": "7a62651e-62eb-4df3-9723-16fdd3998287",
   "metadata": {},
   "outputs": [],
   "source": [
    "# View the data and describe the data verbally"
   ]
  },
  {
   "cell_type": "code",
   "execution_count": null,
   "id": "5b051677-500a-49ca-9911-ba304118955f",
   "metadata": {},
   "outputs": [],
   "source": [
    "# Load positions\n",
    "fa_raw = pd.read_csv(f\"{POS_DIR}/fund_admin_positions_2025-09-11.csv\", parse_dates=[\"date\"])\n",
    "br_raw = pd.read_csv(f\"{POS_DIR}/broker_positions_2025-09-11.csv\", parse_dates=[\"date\"])"
   ]
  },
  {
   "cell_type": "markdown",
   "id": "81f3659b-aa65-4875-accf-7196e7379b33",
   "metadata": {},
   "source": [
    "#### Get a feel for the data"
   ]
  },
  {
   "cell_type": "code",
   "execution_count": null,
   "id": "75cdd785-0fbe-4ff8-8ff3-2920e126c8bf",
   "metadata": {},
   "outputs": [],
   "source": [
    "# View the data and describe the data verbally"
   ]
  },
  {
   "cell_type": "code",
   "execution_count": null,
   "id": "9d640f09-cf23-41ce-b82b-814dad90a6cc",
   "metadata": {},
   "outputs": [],
   "source": []
  },
  {
   "cell_type": "markdown",
   "id": "bf9a85d9-4014-452f-928f-c2a8af6baf3a",
   "metadata": {},
   "source": [
    "#### Normalize"
   ]
  },
  {
   "cell_type": "code",
   "execution_count": null,
   "id": "d96dcf97-269f-4db6-a182-a2c1e68218f8",
   "metadata": {},
   "outputs": [],
   "source": [
    "# Helpers as per LTA schema requirements\n",
    "# Converters to update broker/fund admin column names to LTA schema names\n",
    "pos_col_converters = {\n",
    "'date': 'date',\n",
    "'ticker': 'security_description',\n",
    "'unique_id': 'security_id',\n",
    "'quantity': 'quantity',\n",
    "'price': 'price',\n",
    "'contract_multiplier': 'multiplier',\n",
    "'average_cost': 'avg_cost'\n",
    "}\n",
    "\n",
    "# LTA only keeps these columns in our position schemas\n",
    "keep_pos_columns = [\n",
    "'date',\n",
    "'security_description',\n",
    "'security_id',\n",
    "'quantity',\n",
    "'price',\n",
    "'multiplier',\n",
    "'avg_cost',\n",
    "'start_of_month_price',\n",
    "]"
   ]
  },
  {
   "cell_type": "code",
   "execution_count": null,
   "id": "05356d10-6932-42a3-b3dc-0ecc6b7ebd32",
   "metadata": {},
   "outputs": [],
   "source": [
    "# I have normalized the fund admin data for you\n",
    "# Can you walk me through what the code is doing line by line?"
   ]
  },
  {
   "cell_type": "code",
   "execution_count": null,
   "id": "dcf10946-3372-4356-b193-07d478ef1576",
   "metadata": {},
   "outputs": [],
   "source": [
    "def normalize_fa_pos(fa_pos_raw, lot_col, avg_cost_col):\n",
    "    # 1. ?\n",
    "    d = fa_pos_raw.copy()\n",
    "\n",
    "    # 2. ?\n",
    "    d['lot_signed'] = d[lot_col] * d['lot_sign']\n",
    "\n",
    "    # 3. ?\n",
    "    d['qty_times_price'] = d[avg_cost_col] * d['lot_signed'] \n",
    "    \n",
    "    pos_group_cols = [\n",
    "        'date',\n",
    "        'security_description',\n",
    "        'price',\n",
    "        'contract_multiplier',\n",
    "        'start_of_month_price',\n",
    "        'unique_id',\n",
    "        ]\n",
    "    \n",
    "    agg = d.groupby(pos_group_cols).agg(\n",
    "        quantity=('lot_signed', 'sum'), total_qty_times_price=('qty_times_price', 'sum')\n",
    "        )\n",
    "    \n",
    "    agg['avg_cost'] = agg['total_qty_times_price'] / agg['quantity']\n",
    "    \n",
    "    # 4. ?\n",
    "    agg = agg.reset_index()\n",
    "    # 5. ?\n",
    "    agg = agg.rename(columns=pos_col_converters)\n",
    "    # 6. ?\n",
    "    agg = agg[keep_pos_columns]\n",
    "    \n",
    "    return agg"
   ]
  },
  {
   "cell_type": "code",
   "execution_count": null,
   "id": "1513104f-e79e-4124-be4b-4b2d0a271997",
   "metadata": {},
   "outputs": [],
   "source": [
    "display(fa_raw)\n",
    "fa_norm = normalize_fa_pos(fa_raw, 'lot_qty', 'average_cost').sort_values(by='security_id')\n",
    "display(fa_norm)"
   ]
  },
  {
   "cell_type": "code",
   "execution_count": null,
   "id": "4c6c3103-4016-4f54-ab8a-7acdff2df33b",
   "metadata": {},
   "outputs": [],
   "source": [
    "# TODO: normalize broker data to LTA Schema Requirements, sort values by security_id\n",
    "# Name the normalized dataframe br_norm\n",
    "# Note that this is FAR easier than the normalization above -- you do not need a function"
   ]
  },
  {
   "cell_type": "code",
   "execution_count": null,
   "id": "6e4e9b99-2eab-4e24-8615-fa35a3abe048",
   "metadata": {},
   "outputs": [],
   "source": [
    "br_norm = pd.DataFrame() # UPDATE CODE HERE"
   ]
  },
  {
   "cell_type": "code",
   "execution_count": null,
   "id": "8cf85c34-0021-4a3d-95e2-b5e7c2070683",
   "metadata": {},
   "outputs": [],
   "source": [
    "if br_norm.equals(br_norm_answer):\n",
    "    print('Congratulations')\n",
    "else:\n",
    "    print('Your answer: ')\n",
    "    display(br_norm)\n",
    "    print('My answer: ')\n",
    "    display(br_norm_answer)\n",
    "br_norm = br_norm_answer.copy()"
   ]
  },
  {
   "cell_type": "markdown",
   "id": "1029ba80-e821-47e6-b7d4-071455cabb33",
   "metadata": {},
   "source": [
    "#### Merge"
   ]
  },
  {
   "cell_type": "code",
   "execution_count": null,
   "id": "8e72a57d-d1c5-4009-b692-72ea3b455568",
   "metadata": {},
   "outputs": [],
   "source": [
    "# Now that we have normalized broker and fund admin data, \n",
    "# we will merge the 2 dataframes"
   ]
  },
  {
   "cell_type": "code",
   "execution_count": null,
   "id": "be477879-fc0f-42c9-8392-0d41644b646f",
   "metadata": {},
   "outputs": [],
   "source": [
    "# One-to-one join on unique_id\n",
    "pos = (fa_norm.add_suffix(\"_fa\")\n",
    "       .merge(br_norm.add_suffix(\"_br\"),\n",
    "              left_on=\"security_id_fa\", right_on=\"security_id_br\",\n",
    "              how=\"outer\", validate=\"one_to_one\"))\n",
    "\n",
    "display(pos)"
   ]
  },
  {
   "cell_type": "markdown",
   "id": "4d9583b7-cc5c-45c0-a236-254e7a78ba1f",
   "metadata": {},
   "source": [
    "#### Compute breaks and make a breaks report"
   ]
  },
  {
   "cell_type": "code",
   "execution_count": null,
   "id": "66c65ecf-8ce6-4d6c-836b-920415202258",
   "metadata": {},
   "outputs": [],
   "source": [
    "# TODO: Build break table\n",
    "# 1. Keep only 1 security_id column\n",
    "\n",
    "# 2. Compute quantity breaks 'qty_diff'\n",
    "\n",
    "# 3. Compute average cost difference 'avg_cost_diff'\n",
    "\n",
    "# 4. Output a clean dataframe, sort values by security_id\n",
    "break_pos = pd.DataFrame() # UPDATE CODE HERE\n",
    "\n",
    "display(break_pos)"
   ]
  },
  {
   "cell_type": "code",
   "execution_count": null,
   "id": "2e78c547-e900-435a-9310-64cad95c1fd0",
   "metadata": {},
   "outputs": [],
   "source": [
    "if break_pos.equals(break_pos_answer):\n",
    "    print('Congratulations')\n",
    "else:\n",
    "    print('Your answer: ')\n",
    "    display(break_pos)\n",
    "    print('My answer: ')\n",
    "    display(break_pos_answer)\n",
    "break_pos = break_pos_answer.copy()"
   ]
  },
  {
   "cell_type": "markdown",
   "id": "5c2818cd-502c-4420-985d-e45a211b14b4",
   "metadata": {},
   "source": [
    "## Step 2 — Trades + EOD P&L (Trade Date 2025‑09‑12)\n",
    "\n",
    "**Prompt:**\n",
    "1) Load **both** trade files; compute `notional`.\n",
    "2) Merge marks; compute per-trade EOD `pnl`.\n",
    "3) Aggregate per `unique_id` and compare Admin vs Broker (identify ES break).\n",
    "4) (Optional) Add carry P&L from 09/11 to 09/12 and show total P&L."
   ]
  },
  {
   "cell_type": "code",
   "execution_count": null,
   "id": "adb70818-0c56-4167-a3e8-525bb0f6f29e",
   "metadata": {},
   "outputs": [],
   "source": [
    "# Load trades\n",
    "fa_trd = pd.read_csv(f\"{TRD_DIR}/fund_admin_trades_2025-09-12.csv\", parse_dates=[\"trade_date\",\"settle_date\"])\n",
    "br_trd = pd.read_csv(f\"{TRD_DIR}/broker_trades_2025-09-12.csv\", parse_dates=[\"trade_date\",\"settle_date\"])"
   ]
  },
  {
   "cell_type": "code",
   "execution_count": null,
   "id": "7925c7c6-d49f-47e5-986e-d5b117936c2e",
   "metadata": {},
   "outputs": [],
   "source": [
    "# View the data and describe the data verbally"
   ]
  },
  {
   "cell_type": "code",
   "execution_count": null,
   "id": "d64bdb0a-2bc1-4d08-bb7b-d51f391db813",
   "metadata": {},
   "outputs": [],
   "source": [
    "# Display fund admin data\n"
   ]
  },
  {
   "cell_type": "code",
   "execution_count": null,
   "id": "523a45d2-fdbc-4907-bdf0-a0e526c28b78",
   "metadata": {},
   "outputs": [],
   "source": [
    "# Display broker data\n"
   ]
  },
  {
   "cell_type": "code",
   "execution_count": null,
   "id": "583a4534-6ea1-4de8-8915-1d7e7a023951",
   "metadata": {},
   "outputs": [],
   "source": [
    "# This time we have not normalized the data for you, \n",
    "# TODO: Normalize trades data\n",
    "# Feel free to refer above to copy code\n",
    "# The schema requirements are below\n",
    "\n",
    "# Converters to update broker/fund admin column names to LTA schema names\n",
    "trd_col_converters = {\n",
    "    'date': 'date',\n",
    "    'ticker': 'security_description',\n",
    "    'unique_id': 'security_id',\n",
    "    'quantity': 'quantity',\n",
    "    'price': 'price',\n",
    "    'contract_multiplier': 'multiplier',\n",
    "}\n",
    "\n",
    "# Final columns that should be in your trades dataframe\n",
    "keep_trd_cols = [\n",
    "    'security_description',\n",
    "    'security_id',\n",
    "    'trade_date',\n",
    "    'settle_date',\n",
    "    'price',\n",
    "    'commissions',\n",
    "    'quantity',\n",
    "    'multiplier']"
   ]
  },
  {
   "cell_type": "code",
   "execution_count": null,
   "id": "852a5e5b-12d5-4ee0-9730-e862ff5909ee",
   "metadata": {},
   "outputs": [],
   "source": [
    "# TODO: normalize broker trade data to LTA Schema Requirements, sort values by security_id\n",
    "# Name the normalized dataframe br_trd_norm\n",
    "br_trd_norm = pd.DataFrame() # YOUR CODE HERE"
   ]
  },
  {
   "cell_type": "code",
   "execution_count": null,
   "id": "c514a9c9-8e10-43c1-bffc-c1cedef9e76b",
   "metadata": {},
   "outputs": [],
   "source": [
    "if br_trd_norm.equals(br_trd_norm_answer):\n",
    "    print('Congratulations')\n",
    "else:\n",
    "    print('Your answer: ')\n",
    "    display(br_trd_norm)\n",
    "    print('My answer: ')\n",
    "    display(br_trd_norm_answer)\n",
    "br_trd_norm = br_trd_norm_answer.copy()"
   ]
  },
  {
   "cell_type": "code",
   "execution_count": null,
   "id": "a950d594-89e6-4a93-826d-c5d296d49b3c",
   "metadata": {},
   "outputs": [],
   "source": [
    "# TODO: normalize fund admin trade data to LTA Schema Requirements, sort values by security_id\n",
    "# Name the normalized dataframe fa_trd_norm\n",
    "\n",
    "# Hints available:\n",
    "# 1. here are the columns you need to group by and aggregate over\n",
    "d = fa_trd.copy()\n",
    "d = d.rename(columns={'unique_id':'security_id'})\n",
    "trd_grp_cols =     ['ticker', \n",
    "                    'security_id',\n",
    "                    'trade_date',\n",
    "                    'settle_date',\n",
    "                    'contract_multiplier']\n",
    "\n",
    "\n",
    "# Groupby and aggregate\n",
    "# 1. Total quantity\n",
    "# 2. Total commissions\n",
    "# 3. Price (how will you agg this?)\n",
    "\n",
    "\n",
    "# Reset Index, rename columns, keep LTA schema columns, sort_values\n",
    "\n",
    "fa_trd_norm = pd.DataFrame()"
   ]
  },
  {
   "cell_type": "code",
   "execution_count": null,
   "id": "e25f8a79-6197-43fe-87fa-fab9d899fd97",
   "metadata": {},
   "outputs": [],
   "source": [
    "if fa_trd_norm.equals(fa_trd_norm_answer):\n",
    "    print('Congratulations')\n",
    "else:\n",
    "    print('Your answer: ')\n",
    "    display(fa_trd_norm)\n",
    "    print('My answer: ')\n",
    "    display(fa_trd_norm_answer)\n",
    "fa_trd_norm = fa_trd_norm_answer.copy()"
   ]
  },
  {
   "cell_type": "code",
   "execution_count": null,
   "id": "0350b2df-b226-43c2-8d46-1fac46b168a5",
   "metadata": {},
   "outputs": [],
   "source": []
  },
  {
   "cell_type": "code",
   "execution_count": null,
   "id": "9607c5f9-22f2-489f-a097-9ab99b7b2ba8",
   "metadata": {},
   "outputs": [],
   "source": [
    "# Now that we have our daily trades normalized\n",
    "# We want to calculate our daily PNL to see if broker and fund admin are matching\n",
    "# Here are the end of day marks for 09/12\n",
    "MARKS = f\"{DATA}/marks_2025-09-12.csv\"\n",
    "marks  = pd.read_csv(MARKS, parse_dates=[\"date\"])\n",
    "display(marks)"
   ]
  },
  {
   "cell_type": "code",
   "execution_count": null,
   "id": "db51c085-24a0-45b5-885b-330debd93fd0",
   "metadata": {},
   "outputs": [],
   "source": [
    "# Function to merge closing marks with normalized trades\n",
    "def merge_close_marks_on_trades(df, marks):\n",
    "    d = df.copy()\n",
    "    out = df.merge(marks[[\"security_id\",\"close\"]], on=\"security_id\", how=\"left\", validate=\"many_to_one\")\n",
    "    return out\n",
    "\n",
    "fa_trd_cl = merge_close_marks_on_trades(fa_trd_norm, marks)\n",
    "\n",
    "br_trd_cl = merge_close_marks_on_trades(br_trd_norm, marks)"
   ]
  },
  {
   "cell_type": "code",
   "execution_count": null,
   "id": "841a88dc-5270-4d23-9feb-b7b196185f70",
   "metadata": {},
   "outputs": [],
   "source": [
    "print('Fund admin trades: ')\n",
    "display(fa_trd_cl)\n",
    "print('Broker trades: ')\n",
    "display(br_trd_cl)"
   ]
  },
  {
   "cell_type": "code",
   "execution_count": null,
   "id": "a10ad5a3-d35f-4820-b54a-0c9bfa43ee22",
   "metadata": {},
   "outputs": [],
   "source": [
    "# TODO: Write a function that takes in a trades dataframe and calculates trade PNL\n",
    "# You can ignore comms -- but tell us how you would account for it\n",
    "# The returned df should have 2 additional columns called 'notional' and 'pnl'"
   ]
  },
  {
   "cell_type": "code",
   "execution_count": null,
   "id": "b8d11897-5058-4a5c-8f8c-df19f4fb5132",
   "metadata": {},
   "outputs": [],
   "source": [
    "def calculate_notional_and_pnl(df):\n",
    "    # YOUR CODE HERE\n",
    "    return pd.DataFrame() # UPDATE THIS "
   ]
  },
  {
   "cell_type": "code",
   "execution_count": null,
   "id": "5dc1108d-fbc2-492b-a260-e53c7f3a85c6",
   "metadata": {},
   "outputs": [],
   "source": [
    "fa_p = calculate_notional_and_pnl(fa_trd_cl)\n",
    "assert type(fa_p) == pd.core.frame.DataFrame"
   ]
  },
  {
   "cell_type": "code",
   "execution_count": null,
   "id": "7cc89866-1a19-4020-8eab-71d3485c8da5",
   "metadata": {},
   "outputs": [],
   "source": [
    "if fa_p.equals(fa_p_answer):\n",
    "    print('Congratulations')\n",
    "else:\n",
    "    print('Your answer: ')\n",
    "    display(fa_p)\n",
    "    print('My answer: ')\n",
    "    display(fa_p_answer)\n",
    "fa_p = fa_p_answer.copy()"
   ]
  },
  {
   "cell_type": "code",
   "execution_count": null,
   "id": "c463c428-34f5-47d4-afd1-0408027ac430",
   "metadata": {},
   "outputs": [],
   "source": [
    "br_p = calculate_notional_and_pnl(br_trd_cl)\n",
    "assert type(fa_p) == pd.core.frame.DataFrame"
   ]
  },
  {
   "cell_type": "code",
   "execution_count": null,
   "id": "d53ecd49-a71b-4084-adea-ee43750a7491",
   "metadata": {},
   "outputs": [],
   "source": [
    "if br_p.equals(br_p_answer):\n",
    "    print('Congratulations')\n",
    "else:\n",
    "    print('Your answer: ')\n",
    "    display(br_p)\n",
    "    print('My answer: ')\n",
    "    display(br_p_answer)\n",
    "br_p = br_p_answer.copy()"
   ]
  },
  {
   "cell_type": "code",
   "execution_count": null,
   "id": "a42adf16-296b-45f2-bd0f-da7a489e6c65",
   "metadata": {},
   "outputs": [],
   "source": [
    "# Aggregate per instrument\n",
    "fa_p = fa_p.groupby(\"security_id\", as_index=False)[\"pnl\"].sum().rename(columns={\"pnl\":\"pnl_admin\"})\n",
    "br_p = br_p.groupby(\"security_id\", as_index=False)[\"pnl\"].sum().rename(columns={\"pnl\":\"pnl_broker\"})\n",
    "\n",
    "# Compute PNL breaks\n",
    "pnl_cmp = (fa_p.merge(br_p, on=\"security_id\", how=\"outer\").fillna(0.0))\n",
    "pnl_cmp[\"pnl_break\"] = pnl_cmp[\"pnl_broker\"] - pnl_cmp[\"pnl_admin\"]\n",
    "pnl_cmp = pnl_cmp.sort_values(\"security_id\").reset_index(drop=True)"
   ]
  },
  {
   "cell_type": "code",
   "execution_count": null,
   "id": "1ea77015-b501-4ded-9610-af76abaf7d42",
   "metadata": {},
   "outputs": [],
   "source": [
    "display(pnl_cmp)"
   ]
  },
  {
   "cell_type": "code",
   "execution_count": null,
   "id": "9a4bd3f3-2b9a-42f7-9f30-94bf1e8114a2",
   "metadata": {},
   "outputs": [],
   "source": [
    "if pnl_cmp.equals(pnl_cmp_answer):\n",
    "    print('Congratulations')\n",
    "else:\n",
    "    print('Your answer: ')\n",
    "    display(pnl_cmp)\n",
    "    print('My answer: ')\n",
    "    display(pnl_cmp_answer)\n",
    "pnl_cmp = pnl_cmp_answer.copy()"
   ]
  },
  {
   "cell_type": "markdown",
   "id": "fceacbfa-f4d1-4544-a19f-4f216cdf2362",
   "metadata": {},
   "source": [
    "## Step 3 -- Fix the break\n",
    "- Call the broker, have them fix the trade file and send you a new one\n",
    "- Once they send you a fixed file, validate that the PNL break has cleared"
   ]
  },
  {
   "cell_type": "code",
   "execution_count": null,
   "id": "3b244b36-07d0-437a-8eb2-85fee9c8da8b",
   "metadata": {},
   "outputs": [],
   "source": [
    "br_trd_v2 = pd.read_csv(f\"{TRD_DIR}/broker_trades_2025-09-12_v2.csv\", parse_dates=[\"trade_date\",\"settle_date\"])\n",
    "print(\"New data: \")\n",
    "display(br_trd_v2)\n",
    "print(\"Old data: \")\n",
    "display(br_trd)"
   ]
  },
  {
   "cell_type": "code",
   "execution_count": null,
   "id": "e5eb8bb0-bc94-4306-8818-302fa928cc55",
   "metadata": {},
   "outputs": [],
   "source": [
    "# TODO: recompute the pnl_cmp table with the updated broker trade file\n",
    "# name the new table pnl_cmp_v2\n",
    "# make sure that all variables where you are using the new data end with _v2\n",
    "# The final table should be named pnl_cmp_v2"
   ]
  },
  {
   "cell_type": "code",
   "execution_count": null,
   "id": "2d0a0ac4-818b-436b-884d-877b76ace355",
   "metadata": {},
   "outputs": [],
   "source": []
  },
  {
   "cell_type": "code",
   "execution_count": null,
   "id": "de91531a-f0b7-4fa1-b9ee-e90db99bc98a",
   "metadata": {},
   "outputs": [],
   "source": []
  },
  {
   "cell_type": "code",
   "execution_count": null,
   "id": "0fe9565e-d428-4c98-b8e1-fdc3cb98ef5b",
   "metadata": {},
   "outputs": [],
   "source": []
  },
  {
   "cell_type": "code",
   "execution_count": null,
   "id": "5ac914ba-944c-4d0e-8667-cf0fa2781d1d",
   "metadata": {},
   "outputs": [],
   "source": []
  },
  {
   "cell_type": "code",
   "execution_count": null,
   "id": "92818a34-248d-4baf-a114-58693e54cf62",
   "metadata": {},
   "outputs": [],
   "source": [
    "pnl_cmp_v2 = pd.DataFrame()"
   ]
  },
  {
   "cell_type": "code",
   "execution_count": null,
   "id": "1a2e183b-3e8d-469d-943e-07b9fc96b3b9",
   "metadata": {},
   "outputs": [],
   "source": [
    "assert type(pnl_cmp_v2) == pd.core.frame.DataFrame\n",
    "if pnl_cmp_v2.equals(pnl_cmp_v2_answer):\n",
    "    print('Congratulations')\n",
    "else:\n",
    "    print('Your answer: ')\n",
    "    display(pnl_cmp_v2)\n",
    "    print('My answer: ')\n",
    "    display(pnl_cmp_v2_answer)\n",
    "pnl_cmp_v2 = pnl_cmp_v2_answer.copy()"
   ]
  },
  {
   "cell_type": "code",
   "execution_count": null,
   "id": "7c5f7f64-dda7-419f-89ae-4e30356318ac",
   "metadata": {},
   "outputs": [],
   "source": []
  },
  {
   "cell_type": "markdown",
   "id": "0fd94922-dc7f-474d-b48d-0bf7502453f6",
   "metadata": {},
   "source": [
    "## Step 4 — OOP and Class Development\n",
    "\n",
    "I have created a simple class using OOP, take a look at the below code for 5-10 minutes,\n",
    "try and connect it to concepts we went over earlier in this exercise.\n",
    "\n",
    "Once you're done taking a look, I'll be asking questions related to:\n",
    "1. What OOP concepts do you see here?\n",
    "2. What are the advantages and disadvantages \n",
    "3. Quality/Extensions -- what can be improved? Changed?"
   ]
  },
  {
   "cell_type": "code",
   "execution_count": null,
   "id": "2ab77199-f830-4be6-9535-8dda95ceb5d3",
   "metadata": {},
   "outputs": [],
   "source": [
    "from abc import ABC, abstractmethod\n",
    "\n",
    "# =============== 1) Abstraction ===============\n",
    "\n",
    "class RecordSource(ABC):\n",
    "    \"\"\"\n",
    "    Abstract contract for any tabular source. \n",
    "    Subclasses must return a DataFrame with a COMMON schema via normalize().\n",
    "    Target schema: ['id', 'qty'] where qty is signed.\n",
    "    \"\"\"\n",
    "\n",
    "    @abstractmethod\n",
    "    def get_data(self) -> pd.DataFrame:\n",
    "        \"\"\"Return raw DataFrame (whatever columns the source has).\"\"\"\n",
    "        pass\n",
    "\n",
    "    @abstractmethod\n",
    "    def normalize(self, df: pd.DataFrame) -> pd.DataFrame:\n",
    "        \"\"\"Map raw to common schema ['id','qty'] (signed).\"\"\"\n",
    "        pass\n",
    "\n",
    "# =============== 2) Inheritance ===============\n",
    "\n",
    "class AdminSource(RecordSource):\n",
    "    \"\"\"\n",
    "    Raw schema: ['record_id','quantity','sign'] \n",
    "      - quantity is unsigned, direction in 'sign' (+1 or -1).\n",
    "    \"\"\"\n",
    "\n",
    "    def __init__(self, raw_df: pd.DataFrame):\n",
    "        self.raw = raw_df\n",
    "\n",
    "    def get_data(self) -> pd.DataFrame:\n",
    "        return self.raw.copy()\n",
    "\n",
    "    def normalize(self, df: pd.DataFrame) -> pd.DataFrame:\n",
    "        out = df.rename(columns={'record_id':'id', 'quantity':'quantity_abs'})\n",
    "        out['qty'] = out['quantity_abs'] * out['sign']\n",
    "        return out[['id','qty']]\n",
    "\n",
    "\n",
    "class BrokerSource(RecordSource):\n",
    "    \"\"\"\n",
    "    Raw schema: ['id','qty'] \n",
    "      - qty already signed\n",
    "    \"\"\"\n",
    "\n",
    "    def __init__(self, raw_df: pd.DataFrame):\n",
    "        self.raw = raw_df\n",
    "\n",
    "    def get_data(self) -> pd.DataFrame:\n",
    "        return self.raw.copy()\n",
    "\n",
    "    def normalize(self, df: pd.DataFrame) -> pd.DataFrame:\n",
    "        return df[['id','qty']].copy()\n",
    "\n",
    "# =============== 3) Composition ===============\n",
    "\n",
    "class SimpleReconciler:\n",
    "    def __init__(self, left: RecordSource, right: RecordSource):\n",
    "        self.left = left\n",
    "        self.right = right\n",
    "\n",
    "    def breaks(self) -> pd.DataFrame:\n",
    "        l_norm = self.left.normalize(self.left.get_data()).add_suffix('_L')\n",
    "        r_norm = self.right.normalize(self.right.get_data()).add_suffix('_R')\n",
    "\n",
    "        merged = l_norm.merge(\n",
    "            r_norm,\n",
    "            left_on='id_L',\n",
    "            right_on='id_R',\n",
    "            how='outer',\n",
    "            validate='one_to_one'\n",
    "        )\n",
    "\n",
    "        merged = merged.rename(columns={'id_L':'id'}).drop(columns=['id_R'])\n",
    "        merged['qty_diff'] = merged['qty_R'].fillna(0) - merged['qty_L'].fillna(0)\n",
    "        return merged[['id','qty_L','qty_R','qty_diff']].sort_values('id')"
   ]
  }
 ],
 "metadata": {
  "kernelspec": {
   "display_name": "Python 3 (ipykernel)",
   "language": "python",
   "name": "python3"
  },
  "language_info": {
   "codemirror_mode": {
    "name": "ipython",
    "version": 3
   },
   "file_extension": ".py",
   "mimetype": "text/x-python",
   "name": "python",
   "nbconvert_exporter": "python",
   "pygments_lexer": "ipython3",
   "version": "3.11.0"
  }
 },
 "nbformat": 4,
 "nbformat_minor": 5
}
